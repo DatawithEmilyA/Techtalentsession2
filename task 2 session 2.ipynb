{
 "metadata": {
  "language_info": {
   "codemirror_mode": {
    "name": "ipython",
    "version": 3
   },
   "file_extension": ".py",
   "mimetype": "text/x-python",
   "name": "python",
   "nbconvert_exporter": "python",
   "pygments_lexer": "ipython3",
   "version": "3.8.5-final"
  },
  "orig_nbformat": 2,
  "kernelspec": {
   "name": "python3",
   "display_name": "Python 3",
   "language": "python"
  }
 },
 "nbformat": 4,
 "nbformat_minor": 2,
 "cells": [
  {
   "cell_type": "code",
   "execution_count": 4,
   "metadata": {},
   "outputs": [
    {
     "output_type": "stream",
     "name": "stdout",
     "text": [
      "The value of i is: 2000\nThe value of i is: 1800.0\nThe value of i is: 1620.0\nThe value of i is: 1458.0\nThe value of i is: 1312.2\nThe value of i is: 1180.98\nThe value of i is: 1062.882\n"
     ]
    }
   ],
   "source": [
    "def function_1():\n",
    "    i = 2000\n",
    "\n",
    "    while i > 1000:\n",
    "     print (\"The value of i is:\", i )\n",
    "     i *=0.9 \n",
    "\n",
    "output = function_1()"
   ]
  },
  {
   "cell_type": "code",
   "execution_count": 5,
   "metadata": {},
   "outputs": [
    {
     "output_type": "stream",
     "name": "stdout",
     "text": [
      "The value of i is: 2000\nThe value of i is: 1800.0\nThe value of i is: 1620.0\nThe value of i is: 1458.0\nThe value of i is: 1312.2\nThe value of i is: 1180.98\nThe value of i is: 1062.882\n"
     ]
    }
   ],
   "source": [
    "function_1()"
   ]
  }
 ]
}