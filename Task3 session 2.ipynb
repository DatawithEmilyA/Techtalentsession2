{
 "metadata": {
  "language_info": {
   "codemirror_mode": {
    "name": "ipython",
    "version": 3
   },
   "file_extension": ".py",
   "mimetype": "text/x-python",
   "name": "python",
   "nbconvert_exporter": "python",
   "pygments_lexer": "ipython3",
   "version": "3.8.5-final"
  },
  "orig_nbformat": 2,
  "kernelspec": {
   "name": "python3",
   "display_name": "Python 3",
   "language": "python"
  }
 },
 "nbformat": 4,
 "nbformat_minor": 2,
 "cells": [
  {
   "cell_type": "code",
   "execution_count": 104,
   "metadata": {},
   "outputs": [],
   "source": [
    "def procedureMenu(user_input1,user_input2,choice):\n",
    "    print(\"Please select which operation you would like to use\")\n",
    "    print(\"===================================\")\n",
    "    print(\"1 = addition\")\n",
    "    print(\"2= subtraction\")\n",
    "    print(\"3= multiply\")\n",
    "    print(\"4 = division\")\n",
    "\n",
    "\n",
    "user_input1 = int(input(\"Please pick a number between 1-100\"))\n",
    "user_input2 = int(input(\"Please select another\"))\n",
    "choice = input(\"Which option would you like to choose?\")"
   ]
  },
  {
   "cell_type": "code",
   "execution_count": 105,
   "metadata": {},
   "outputs": [
    {
     "output_type": "stream",
     "name": "stdout",
     "text": [
      "69\n"
     ]
    }
   ],
   "source": [
    "if choice == \"1\":\n",
    "   print (user_input1 + user_input2)\n",
    "elif choice == \"2\":\n",
    "    print(user_input1 - user_input2)   \n",
    "elif choice == \"3\":\n",
    "    print(user_input1 * user_input2)\n",
    "else:\n",
    "    print(user_input1 / user_input2)"
   ]
  }
 ]
}